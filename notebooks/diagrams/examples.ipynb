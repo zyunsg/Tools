{
 "cells": [
  {
   "cell_type": "markdown",
   "id": "a687ffb8-9318-4475-83bb-4817460264fc",
   "metadata": {},
   "source": [
    "## Examples for drawing Diagrams\n",
    "Refer to [Here](https://diagrams.mingrammer.com/docs/getting-started/examples#advanced-web-service-with-on-premise-with-colors-and-labels)"
   ]
  },
  {
   "cell_type": "code",
   "execution_count": 21,
   "id": "5d42e0f4-6c09-46e7-b749-51d6c973405c",
   "metadata": {},
   "outputs": [
    {
     "name": "stdout",
     "output_type": "stream",
     "text": [
      "/Users/chris.z/Desktop/projects/tools/notebooks/diagrams\n"
     ]
    }
   ],
   "source": [
    "import os\n",
    "\n",
    "from diagrams import Diagram, Cluster\n",
    "from diagrams.aws.compute import EC2, ECS, Lambda, EKS\n",
    "from diagrams.aws.database import RDS, ElastiCache, Redshift\n",
    "from diagrams.aws.network import ELB, Route53\n",
    "from diagrams.aws.integration import SQS\n",
    "from diagrams.aws.storage import S3\n",
    "\n",
    "\n",
    "print(os.getcwd())"
   ]
  },
  {
   "cell_type": "markdown",
   "id": "defe3bbe-c819-43db-b392-be7ca8c931dc",
   "metadata": {},
   "source": [
    "## QuickStart"
   ]
  },
  {
   "cell_type": "code",
   "execution_count": 19,
   "id": "27f16c45-62dc-40c7-9122-9dbfb1e872ab",
   "metadata": {},
   "outputs": [],
   "source": [
    "with Diagram(\"./imgs/Web Service\", show=True):\n",
    "    ELB(\"lb\") >> EC2(\"web\") >> RDS(\"userdb\")"
   ]
  },
  {
   "cell_type": "code",
   "execution_count": null,
   "id": "e29bba3a-8764-4c37-b541-4a01964e6e7c",
   "metadata": {},
   "outputs": [],
   "source": []
  },
  {
   "cell_type": "markdown",
   "id": "f3d2561f-37e0-4c00-8d45-d4cc6b1df4c7",
   "metadata": {},
   "source": [
    "## Grouped Workers on AWS"
   ]
  },
  {
   "cell_type": "code",
   "execution_count": 16,
   "id": "8a5cb860-f129-4a37-a4f7-e3b9c6ed0561",
   "metadata": {},
   "outputs": [],
   "source": [
    "with Diagram(\"./imgs/Grouped Workers\", show=True, direction=\"TB\"):\n",
    "    ELB(\"lb\") >> [EC2(\"worker1\"),\n",
    "                  EC2(\"worker2\"),\n",
    "                  EC2(\"worker3\"),\n",
    "                  EC2(\"worker4\"),\n",
    "                  EC2(\"worker5\")] >> RDS(\"events\")"
   ]
  },
  {
   "cell_type": "code",
   "execution_count": null,
   "id": "ffa01bd8-e59f-4e6d-8afc-6fa84e6f3ba5",
   "metadata": {},
   "outputs": [],
   "source": []
  },
  {
   "cell_type": "markdown",
   "id": "0fbdd778-0f4d-4c02-847f-9c3878d526ad",
   "metadata": {},
   "source": [
    "## Clustered Web Services"
   ]
  },
  {
   "cell_type": "code",
   "execution_count": 17,
   "id": "3c92e2db-4527-4477-928e-2699790b9d63",
   "metadata": {},
   "outputs": [],
   "source": [
    "with Diagram(\"./imgs/Clustered Web Services\", show=False):\n",
    "    dns = Route53(\"dns\")\n",
    "    lb = ELB(\"lb\")\n",
    "\n",
    "    with Cluster(\"Services\"):\n",
    "        svc_group = [ECS(\"web1\"),\n",
    "                     ECS(\"web2\"),\n",
    "                     ECS(\"web3\")]\n",
    "\n",
    "    with Cluster(\"DB Cluster\"):\n",
    "        db_primary = RDS(\"userdb\")\n",
    "        db_primary - [RDS(\"userdb ro\")]\n",
    "\n",
    "    memcached = ElastiCache(\"memcached\")\n",
    "\n",
    "    dns >> lb >> svc_group\n",
    "    svc_group >> db_primary\n",
    "    svc_group >> memcached"
   ]
  },
  {
   "cell_type": "code",
   "execution_count": null,
   "id": "0e0fd8a9-45d5-4569-a6bd-b4fd393bae30",
   "metadata": {},
   "outputs": [],
   "source": []
  },
  {
   "cell_type": "markdown",
   "id": "6c4561c4-b68e-470a-8da1-1459b573b967",
   "metadata": {},
   "source": [
    "## Event Processing on AWS"
   ]
  },
  {
   "cell_type": "code",
   "execution_count": 22,
   "id": "241933ae-34c1-4dee-bc69-dba453718188",
   "metadata": {},
   "outputs": [],
   "source": [
    "with Diagram(\"./imgs/Event Processing\", show=False):\n",
    "    source = EKS(\"k8s source\")\n",
    "\n",
    "    with Cluster(\"Event Flows\"):\n",
    "        with Cluster(\"Event Workers\"):\n",
    "            workers = [ECS(\"worker1\"),\n",
    "                       ECS(\"worker2\"),\n",
    "                       ECS(\"worker3\")]\n",
    "\n",
    "        queue = SQS(\"event queue\")\n",
    "\n",
    "        with Cluster(\"Processing\"):\n",
    "            handlers = [Lambda(\"proc1\"),\n",
    "                        Lambda(\"proc2\"),\n",
    "                        Lambda(\"proc3\")]\n",
    "\n",
    "    store = S3(\"events store\")\n",
    "    dw = Redshift(\"analytics\")\n",
    "\n",
    "    source >> workers >> queue >> handlers\n",
    "    handlers >> store\n",
    "    handlers >> dw"
   ]
  },
  {
   "cell_type": "code",
   "execution_count": null,
   "id": "3621d91f-7eab-4be2-ac8f-516c733591ca",
   "metadata": {},
   "outputs": [],
   "source": []
  },
  {
   "cell_type": "markdown",
   "id": "8dcfb28b-7c91-4d22-a5f4-bba3162b48a0",
   "metadata": {},
   "source": [
    "## Messgage Collecting System on GCP"
   ]
  },
  {
   "cell_type": "code",
   "execution_count": 23,
   "id": "64dd8ab3-5cee-484a-81c7-c3b085e1d48d",
   "metadata": {},
   "outputs": [],
   "source": [
    "from diagrams.gcp.analytics import BigQuery, Dataflow, PubSub\n",
    "from diagrams.gcp.compute import AppEngine, Functions\n",
    "from diagrams.gcp.database import BigTable\n",
    "from diagrams.gcp.iot import IotCore\n",
    "from diagrams.gcp.storage import GCS"
   ]
  },
  {
   "cell_type": "code",
   "execution_count": 24,
   "id": "85ed2a29-e931-4848-ae3c-4844f6399f90",
   "metadata": {},
   "outputs": [],
   "source": [
    "with Diagram(\"./imgs/Message Collecting\", show=True):\n",
    "    pubsub = PubSub(\"pubsub\")\n",
    "\n",
    "    with Cluster(\"Source of Data\"):\n",
    "        [IotCore(\"core1\"),\n",
    "         IotCore(\"core2\"),\n",
    "         IotCore(\"core3\")] >> pubsub\n",
    "\n",
    "    with Cluster(\"Targets\"):\n",
    "        with Cluster(\"Data Flow\"):\n",
    "            flow = Dataflow(\"data flow\")\n",
    "\n",
    "        with Cluster(\"Data Lake\"):\n",
    "            flow >> [BigQuery(\"bq\"),\n",
    "                     GCS(\"storage\")]\n",
    "\n",
    "        with Cluster(\"Event Driven\"):\n",
    "            with Cluster(\"Processing\"):\n",
    "                flow >> AppEngine(\"engine\") >> BigTable(\"bigtable\")\n",
    "\n",
    "            with Cluster(\"Serverless\"):\n",
    "                flow >> Functions(\"func\") >> AppEngine(\"appengine\")\n",
    "\n",
    "    pubsub >> flow"
   ]
  },
  {
   "cell_type": "code",
   "execution_count": null,
   "id": "65e94ebb-1270-4041-8588-cfbbdc6b06d5",
   "metadata": {},
   "outputs": [],
   "source": []
  },
  {
   "cell_type": "markdown",
   "id": "6aa68546-5bae-4311-81c2-34df4f6f65b6",
   "metadata": {},
   "source": [
    "## Exposed Pod with 3 Replicas on Kubernetes"
   ]
  },
  {
   "cell_type": "code",
   "execution_count": 25,
   "id": "af70d72c-260e-4c98-9154-50972bb7196d",
   "metadata": {},
   "outputs": [],
   "source": [
    "from diagrams.k8s.clusterconfig import HPA\n",
    "from diagrams.k8s.compute import Deployment, Pod, ReplicaSet\n",
    "from diagrams.k8s.network import Ingress, Service"
   ]
  },
  {
   "cell_type": "code",
   "execution_count": 26,
   "id": "c43a9c42-c220-403b-bc7f-d15e1ac1aec6",
   "metadata": {},
   "outputs": [],
   "source": [
    "with Diagram(\"./imgs/Exposed Pod with 3 Replicas\", show=False):\n",
    "    net = Ingress(\"domain.com\") >> Service(\"svc\")\n",
    "    net >> [Pod(\"pod1\"),\n",
    "            Pod(\"pod2\"),\n",
    "            Pod(\"pod3\")] << ReplicaSet(\"rs\") << Deployment(\"dp\") << HPA(\"hpa\")"
   ]
  },
  {
   "cell_type": "code",
   "execution_count": null,
   "id": "0d782495-ab46-4b93-be06-d21a4c15e498",
   "metadata": {},
   "outputs": [],
   "source": []
  },
  {
   "cell_type": "markdown",
   "id": "dab1474a-518a-4705-a356-137d447abb5d",
   "metadata": {},
   "source": [
    "## Stateful Architecture on Kubernetes"
   ]
  },
  {
   "cell_type": "code",
   "execution_count": 27,
   "id": "b480fb44-8a7f-49b2-9d26-136da5764731",
   "metadata": {},
   "outputs": [],
   "source": [
    "from diagrams.k8s.compute import Pod, StatefulSet\n",
    "from diagrams.k8s.network import Service\n",
    "from diagrams.k8s.storage import PV, PVC, StorageClass"
   ]
  },
  {
   "cell_type": "code",
   "execution_count": 30,
   "id": "a0d15ebc-4fe1-48af-a0d7-71807abc16ec",
   "metadata": {},
   "outputs": [],
   "source": [
    "with Diagram(\"./imgs/Stateful Architecture\", show=False):\n",
    "    with Cluster(\"Apps\"):\n",
    "        svc = Service(\"svc\")\n",
    "        sts = StatefulSet(\"sts\")\n",
    "\n",
    "        apps = []\n",
    "        for _ in range(3):\n",
    "            pod = Pod(\"pod\")\n",
    "            pvc = PVC(\"pvc\")\n",
    "            pod - sts - pvc\n",
    "            apps.append(svc >> pod >> pvc)\n",
    "\n",
    "    apps << PV(\"pv\") << StorageClass(\"sc\")"
   ]
  },
  {
   "cell_type": "code",
   "execution_count": null,
   "id": "405ec83f-fd8d-47f7-bac1-57f5b08d8823",
   "metadata": {},
   "outputs": [],
   "source": []
  },
  {
   "cell_type": "markdown",
   "id": "2735f62f-7ec2-488e-bfe1-1c363993b359",
   "metadata": {},
   "source": [
    "## Advanced Web Service with On-Premise"
   ]
  },
  {
   "cell_type": "code",
   "execution_count": 29,
   "id": "effa1be5-d553-460c-91a7-4629fe010e56",
   "metadata": {},
   "outputs": [],
   "source": [
    "from diagrams.onprem.analytics import Spark\n",
    "from diagrams.onprem.compute import Server\n",
    "from diagrams.onprem.database import PostgreSQL\n",
    "from diagrams.onprem.inmemory import Redis\n",
    "from diagrams.onprem.aggregator import Fluentd\n",
    "from diagrams.onprem.monitoring import Grafana, Prometheus\n",
    "from diagrams.onprem.network import Nginx\n",
    "from diagrams.onprem.queue import Kafka"
   ]
  },
  {
   "cell_type": "code",
   "execution_count": 31,
   "id": "53449e06-42d3-4b7d-bd2b-be7e27564466",
   "metadata": {},
   "outputs": [],
   "source": [
    "with Diagram(\"./imgs/Advanced Web Service with On-Premise\", show=False):\n",
    "    ingress = Nginx(\"ingress\")\n",
    "\n",
    "    metrics = Prometheus(\"metric\")\n",
    "    metrics << Grafana(\"monitoring\")\n",
    "\n",
    "    with Cluster(\"Service Cluster\"):\n",
    "        grpcsvc = [\n",
    "            Server(\"grpc1\"),\n",
    "            Server(\"grpc2\"),\n",
    "            Server(\"grpc3\")]\n",
    "\n",
    "    with Cluster(\"Sessions HA\"):\n",
    "        primary = Redis(\"session\")\n",
    "        primary - Redis(\"replica\") << metrics\n",
    "        grpcsvc >> primary\n",
    "\n",
    "    with Cluster(\"Database HA\"):\n",
    "        primary = PostgreSQL(\"users\")\n",
    "        primary - PostgreSQL(\"replica\") << metrics\n",
    "        grpcsvc >> primary\n",
    "\n",
    "    aggregator = Fluentd(\"logging\")\n",
    "    aggregator >> Kafka(\"stream\") >> Spark(\"analytics\")\n",
    "\n",
    "    ingress >> grpcsvc >> aggregator"
   ]
  },
  {
   "cell_type": "code",
   "execution_count": null,
   "id": "d7011d94-6a76-44aa-a338-87407cef6d5c",
   "metadata": {},
   "outputs": [],
   "source": []
  },
  {
   "cell_type": "markdown",
   "id": "5a0fbbd8-673b-4d69-b3ef-da5abc4f4936",
   "metadata": {},
   "source": [
    "## Advanced Web Service with On-Premise (with colors and labels)"
   ]
  },
  {
   "cell_type": "code",
   "execution_count": 33,
   "id": "af391321-029f-4084-8192-5ecec0d3c46a",
   "metadata": {},
   "outputs": [],
   "source": [
    "from diagrams import Cluster, Diagram, Edge\n",
    "from diagrams.onprem.analytics import Spark\n",
    "from diagrams.onprem.compute import Server\n",
    "from diagrams.onprem.database import PostgreSQL\n",
    "from diagrams.onprem.inmemory import Redis\n",
    "from diagrams.onprem.aggregator import Fluentd\n",
    "from diagrams.onprem.monitoring import Grafana, Prometheus\n",
    "from diagrams.onprem.network import Nginx\n",
    "from diagrams.onprem.queue import Kafka\n",
    "\n",
    "with Diagram(name=\"./imgs/Advanced Web Service with On-Premise (colored)\", show=True):\n",
    "    ingress = Nginx(\"ingress\")\n",
    "\n",
    "    metrics = Prometheus(\"metric\")\n",
    "    metrics << Edge(color=\"firebrick\", style=\"dashed\") << Grafana(\"monitoring\")\n",
    "\n",
    "    with Cluster(\"Service Cluster\"):\n",
    "        grpcsvc = [\n",
    "            Server(\"grpc1\"),\n",
    "            Server(\"grpc2\"),\n",
    "            Server(\"grpc3\")]\n",
    "\n",
    "    with Cluster(\"Sessions HA\"):\n",
    "        primary = Redis(\"session\")\n",
    "        primary - Edge(color=\"brown\", style=\"dashed\") - Redis(\"replica\") << Edge(label=\"collect\") << metrics\n",
    "        grpcsvc >> Edge(color=\"brown\") >> primary\n",
    "\n",
    "    with Cluster(\"Database HA\"):\n",
    "        primary = PostgreSQL(\"users\")\n",
    "        primary - Edge(color=\"brown\", style=\"dotted\") - PostgreSQL(\"replica\") << Edge(label=\"collect\") << metrics\n",
    "        grpcsvc >> Edge(color=\"black\") >> primary\n",
    "\n",
    "    aggregator = Fluentd(\"logging\")\n",
    "    aggregator >> Edge(label=\"parse\") >> Kafka(\"stream\") >> Edge(color=\"black\", style=\"bold\") >> Spark(\"analytics\")\n",
    "\n",
    "    ingress >> Edge(color=\"darkgreen\") << grpcsvc >> Edge(color=\"darkorange\") >> aggregator\n"
   ]
  },
  {
   "cell_type": "code",
   "execution_count": null,
   "id": "ae737f57-51cf-4763-9a69-50f98c86d091",
   "metadata": {},
   "outputs": [],
   "source": []
  },
  {
   "cell_type": "markdown",
   "id": "dafbcedc-4f4f-4750-b7e5-201792fdee0b",
   "metadata": {},
   "source": [
    "## RabbitMQ Consumers with Custom Nodes "
   ]
  },
  {
   "cell_type": "code",
   "execution_count": 34,
   "id": "a7399284-99bf-41fb-acdd-c340eeb027c6",
   "metadata": {},
   "outputs": [],
   "source": [
    "from urllib.request import urlretrieve\n",
    "\n",
    "from diagrams import Cluster, Diagram\n",
    "from diagrams.aws.database import Aurora\n",
    "from diagrams.custom import Custom\n",
    "from diagrams.k8s.compute import Pod\n",
    "\n",
    "# Download an image to be used into a Custom Node class\n",
    "rabbitmq_url = \"https://jpadilla.github.io/rabbitmqapp/assets/img/icon.png\"\n",
    "rabbitmq_icon = \"rabbitmq.png\"\n",
    "urlretrieve(rabbitmq_url, rabbitmq_icon)\n",
    "\n",
    "with Diagram(\"./imgs/Broker Consumers\", show=False):\n",
    "    with Cluster(\"Consumers\"):\n",
    "        consumers = [\n",
    "            Pod(\"worker\"),\n",
    "            Pod(\"worker\"),\n",
    "            Pod(\"worker\")]\n",
    "\n",
    "    queue = Custom(\"Message queue\", rabbitmq_icon)\n",
    "\n",
    "    queue >> consumers >> Aurora(\"Database\")"
   ]
  },
  {
   "cell_type": "code",
   "execution_count": null,
   "id": "2e9d26ae-7a0e-4366-8da2-73778626d310",
   "metadata": {},
   "outputs": [],
   "source": []
  }
 ],
 "metadata": {
  "kernelspec": {
   "display_name": "Python 3",
   "language": "python",
   "name": "python3"
  },
  "language_info": {
   "codemirror_mode": {
    "name": "ipython",
    "version": 3
   },
   "file_extension": ".py",
   "mimetype": "text/x-python",
   "name": "python",
   "nbconvert_exporter": "python",
   "pygments_lexer": "ipython3",
   "version": "3.6.13"
  }
 },
 "nbformat": 4,
 "nbformat_minor": 5
}
