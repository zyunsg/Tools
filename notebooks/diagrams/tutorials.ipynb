{
 "cells": [
  {
   "cell_type": "markdown",
   "id": "8018c645-79f8-4147-a3ce-521c336dcd2e",
   "metadata": {},
   "source": [
    "# Tutorials for drawing diagrams\n",
    "To understand the following 4 parts\n",
    "1. **Diagrams**: a primary object representing a diagram\n",
    "2. **Nodes**: a second object representing a node or system component\n",
    "3. **Clusters**: group or clustering the nodes in a isolated group\n",
    "4. **Edges**: an edge between Nodes"
   ]
  },
  {
   "cell_type": "code",
   "execution_count": null,
   "id": "234b7b5f-d5b6-4721-98fb-6b8a906b8a0e",
   "metadata": {},
   "outputs": [],
   "source": []
  },
  {
   "cell_type": "markdown",
   "id": "87de5221-11f1-442f-9942-a63ba49fc9a9",
   "metadata": {},
   "source": [
    "## 1. Diagrams\n",
    "+ Basics\n",
    "+ Jupyter Notebooks\n",
    "+ Options"
   ]
  },
  {
   "cell_type": "markdown",
   "id": "37fb2f95-b297-4be2-9e9a-9f3c8dc76c6e",
   "metadata": {
    "tags": []
   },
   "source": [
    "### Basic\n",
    "Diagram represents a global diagram context.\n",
    "You can create a diagram context with Diagram class. The first parameter of Diagram constructor will be used for output filename."
   ]
  },
  {
   "cell_type": "code",
   "execution_count": 3,
   "id": "4c350087-e448-498d-81f4-451b1fd51e47",
   "metadata": {},
   "outputs": [],
   "source": [
    "from diagrams import Diagram\n",
    "from diagrams.aws.compute import EC2\n",
    "\n",
    "with Diagram(\"./imgs/Simple Diagram\"):\n",
    "    EC2(\"web\")"
   ]
  },
  {
   "cell_type": "code",
   "execution_count": null,
   "id": "91a7f71d-8a7c-4250-8697-f31b0d995c55",
   "metadata": {},
   "outputs": [],
   "source": []
  },
  {
   "cell_type": "markdown",
   "id": "ca098b3b-c4ee-465e-9bc5-202e8d3b5f30",
   "metadata": {},
   "source": [
    "### Jupyter Notebooks\n",
    "Diagrams can be also rendered directly inside the notebook as like this:"
   ]
  },
  {
   "cell_type": "code",
   "execution_count": 4,
   "id": "9acabe61-d6d9-4098-b251-bb4869660918",
   "metadata": {
    "collapsed": true,
    "jupyter": {
     "outputs_hidden": true
    },
    "tags": []
   },
   "outputs": [
    {
     "data": {
      "image/png": "[encoded data removed]",
      "text/plain": [
       "<diagrams.Diagram at 0x7fa3c831e588>"
      ]
     },
     "execution_count": 4,
     "metadata": {},
     "output_type": "execute_result"
    }
   ],
   "source": [
    "from diagrams import Diagram\n",
    "from diagrams.aws.compute import EC2\n",
    "\n",
    "with Diagram(\"./imgs/Simple Diagram\") as diag:\n",
    "    EC2(\"web\")\n",
    "diag"
   ]
  },
  {
   "cell_type": "markdown",
   "id": "09e469da-7e38-429c-b038-372d2dadbe4c",
   "metadata": {},
   "source": []
  },
  {
   "cell_type": "markdown",
   "id": "ffc6aa80-6e4a-4346-9a8f-507035330a6e",
   "metadata": {},
   "source": [
    "### Options\n",
    "> Can specify the output file format with **outformat** parameter. Default is **png**. <br/>\n",
    "> png, jpg, svg, and pdf are allowd "
   ]
  },
  {
   "cell_type": "code",
   "execution_count": 5,
   "id": "140dfc87-1e3f-4e0a-bd0a-ba74026fb5a5",
   "metadata": {},
   "outputs": [],
   "source": [
    "from diagrams import Diagram\n",
    "from diagrams.aws.compute import EC2\n",
    "\n",
    "with Diagram(\"./imgs/Simple Diagram\", outformat=\"jpg\"):\n",
    "    EC2(\"web\")"
   ]
  },
  {
   "cell_type": "code",
   "execution_count": null,
   "id": "c5cc53c9-2e7b-487b-974d-a51871e3c34d",
   "metadata": {},
   "outputs": [],
   "source": []
  },
  {
   "cell_type": "markdown",
   "id": "7ada2794-1aa9-4436-98bc-260c1146d653",
   "metadata": {},
   "source": [
    "> You can specify the output **filename** with filename parameter. The extension shouldn't be included, it's determined by the **outformat** parameter."
   ]
  },
  {
   "cell_type": "code",
   "execution_count": 7,
   "id": "9287490e-8113-45db-a6fb-e9eab7c34a7f",
   "metadata": {},
   "outputs": [],
   "source": [
    "from diagrams import Diagram\n",
    "from diagrams.aws.compute import EC2\n",
    "\n",
    "with Diagram(\"./imgs/Simple Diagram\", filename=\"my_diagram\"):\n",
    "    EC2(\"web\")"
   ]
  },
  {
   "cell_type": "code",
   "execution_count": null,
   "id": "e0c63f19-3c34-471e-b467-929626457a12",
   "metadata": {},
   "outputs": [],
   "source": []
  },
  {
   "cell_type": "markdown",
   "id": "40d6755d-8db8-4951-ada6-dfa2a85a9e03",
   "metadata": {},
   "source": [
    "> You can also disable the automatic file opening by setting the **show** parameter as **false**. Default is **true**."
   ]
  },
  {
   "cell_type": "code",
   "execution_count": 8,
   "id": "cf861d3f-54b0-4ea9-bf63-e760a507bb96",
   "metadata": {},
   "outputs": [],
   "source": [
    "from diagrams import Diagram\n",
    "from diagrams.aws.compute import EC2\n",
    "\n",
    "with Diagram(\"./imgs/Simple Diagram\", show=False):\n",
    "    EC2(\"web\")"
   ]
  },
  {
   "cell_type": "code",
   "execution_count": null,
   "id": "3eb7740f-77d3-4ac6-a1a1-fb73015282b7",
   "metadata": {},
   "outputs": [],
   "source": []
  },
  {
   "cell_type": "markdown",
   "id": "65294bf4-344a-4a83-a1fb-b9d17ffd4680",
   "metadata": {},
   "source": [
    "> It allows custom **Graphviz** dot attributes options.<br/>\n",
    "> [reference link](https://www.graphviz.org/doc/info/attrs.html) "
   ]
  },
  {
   "cell_type": "code",
   "execution_count": 9,
   "id": "46ee57f3-8631-4ba5-b41f-858f3aecfba2",
   "metadata": {},
   "outputs": [],
   "source": [
    "from diagrams import Diagram\n",
    "from diagrams.aws.compute import EC2\n",
    "\n",
    "graph_attr = {\n",
    "    \"fontsize\": \"45\",\n",
    "    \"bgcolor\": \"transparent\"\n",
    "}\n",
    "\n",
    "with Diagram(\"./imgs/Simple Diagram\", show=False, graph_attr=graph_attr):\n",
    "    EC2(\"web\")"
   ]
  },
  {
   "cell_type": "code",
   "execution_count": null,
   "id": "c042938a-4f16-425e-aae9-278627bd33d6",
   "metadata": {},
   "outputs": [],
   "source": []
  },
  {
   "cell_type": "code",
   "execution_count": null,
   "id": "676a21bb-4f8b-4370-9506-bd214fae2d1f",
   "metadata": {},
   "outputs": [],
   "source": []
  },
  {
   "cell_type": "code",
   "execution_count": null,
   "id": "8fff0f5d-cbfa-43c0-bafd-e69dae4fa332",
   "metadata": {},
   "outputs": [],
   "source": []
  },
  {
   "cell_type": "markdown",
   "id": "be7e1551-16dd-4f0d-8bb4-2d4d580f4273",
   "metadata": {},
   "source": [
    "## 2. Nodes\n",
    "+ Basic\n",
    "+ Data Flow\n",
    "+ Group Data Flow"
   ]
  },
  {
   "cell_type": "markdown",
   "id": "c8333e33-9587-46a9-9775-b8050c9e259e",
   "metadata": {},
   "source": [
    "### Basic\n",
    "Node is an abstract concept that represents a single system component object.\n",
    "\n",
    "A node object consists of three parts: **provider**, **resource type** and **name**. You may already have seen each part in the previous example.\n",
    "\n",
    "e.g. the **EC2** is a node of compute **resource type** which provided by **aws** provider."
   ]
  },
  {
   "cell_type": "code",
   "execution_count": 10,
   "id": "4cffa819-4a79-4166-bb45-fd6d6a19445a",
   "metadata": {},
   "outputs": [],
   "source": [
    "# aws resources\n",
    "from diagrams.aws.compute import ECS, Lambda\n",
    "from diagrams.aws.database import RDS, ElastiCache\n",
    "from diagrams.aws.network import ELB, Route53, VPC\n",
    "...\n",
    "\n",
    "# azure resources\n",
    "from diagrams.azure.compute import FunctionApps\n",
    "from diagrams.azure.storage import BlobStorage\n",
    "...\n",
    "\n",
    "# alibaba cloud resources\n",
    "from diagrams.alibabacloud.compute import ECS\n",
    "from diagrams.alibabacloud.storage import ObjectTableStore\n",
    "...\n",
    "\n",
    "# gcp resources\n",
    "from diagrams.gcp.compute import AppEngine, GKE\n",
    "from diagrams.gcp.ml import AutoML \n",
    "...\n",
    "\n",
    "# k8s resources\n",
    "from diagrams.k8s.compute import Pod, StatefulSet\n",
    "from diagrams.k8s.network import Service\n",
    "from diagrams.k8s.storage import PV, PVC, StorageClass\n",
    "...\n",
    "\n",
    "# oracle resources\n",
    "from diagrams.oci.compute import VirtualMachine, Container\n",
    "from diagrams.oci.network import Firewall\n",
    "from diagrams.oci.storage import FileStorage, StorageGateway"
   ]
  },
  {
   "cell_type": "markdown",
   "id": "ca2799ac-90f8-496b-a8ef-f73d98755459",
   "metadata": {},
   "source": [
    "You can find all available nodes list in [here](https://diagrams.mingrammer.com/docs/nodes/aws)"
   ]
  },
  {
   "cell_type": "code",
   "execution_count": null,
   "id": "019da86a-de72-4982-9ee0-e12299b7f171",
   "metadata": {},
   "outputs": [],
   "source": []
  },
  {
   "cell_type": "markdown",
   "id": "0e5974d8-2516-4d84-90f0-6a4578b18265",
   "metadata": {},
   "source": [
    "### Data Flow\n",
    "You can represent data flow by connecting the nodes with these operators: >>, << and -.\n",
    "\n",
    "+ “ >>: Connect nodes in left to right direction. “\n",
    "+ ” <<: Connect nodes in right to left direction. “\n",
    "+ ” -: Connect nodes in no direction. Undirected. “\n",
    "\n",
    "> Be careful when using the - and any shift operators together, which could cause unexpected results due to operator precedence.<br/>\n",
    "> The order of rendered diagrams is the reverse of the declaration order.<br/>\n"
   ]
  },
  {
   "cell_type": "code",
   "execution_count": 11,
   "id": "2e5dd8f9-e642-49cc-8c55-59d1e632ce68",
   "metadata": {},
   "outputs": [],
   "source": [
    "from diagrams import Diagram\n",
    "from diagrams.aws.compute import EC2\n",
    "from diagrams.aws.database import RDS\n",
    "from diagrams.aws.network import ELB\n",
    "from diagrams.aws.storage import S3\n",
    "\n",
    "with Diagram(\"./imgs/Web Services\", show=True):\n",
    "    ELB(\"lb\") >> EC2(\"web\") >> RDS(\"userdb\") >> S3(\"store\")\n",
    "    ELB(\"lb\") >> EC2(\"web\") >> RDS(\"userdb\") << EC2(\"stat\")\n",
    "    (ELB(\"lb\") >> EC2(\"web\")) - EC2(\"web\") >> RDS(\"userdb\")"
   ]
  },
  {
   "cell_type": "code",
   "execution_count": null,
   "id": "ce26143a-1864-4b44-9bd2-c38872c5b81d",
   "metadata": {},
   "outputs": [],
   "source": []
  },
  {
   "cell_type": "markdown",
   "id": "17651fda-000c-4db4-9d9d-b4558efdadb5",
   "metadata": {},
   "source": [
    "> You can change the data flow direction with direction parameter. Default is LR. (TB, BT, LR and RL) are allowed."
   ]
  },
  {
   "cell_type": "code",
   "execution_count": 15,
   "id": "67b536c9-b8f8-4ec5-b48a-a7d9244d4a7f",
   "metadata": {},
   "outputs": [],
   "source": [
    "from diagrams import Diagram\n",
    "from diagrams.aws.compute import EC2\n",
    "from diagrams.aws.database import RDS\n",
    "from diagrams.aws.network import ELB\n",
    "\n",
    "with Diagram(\"./imgs/Workers\", show=True, direction=\"TB\"):\n",
    "    lb = ELB(\"lb\")\n",
    "    db = RDS(\"events\")\n",
    "    lb >> EC2(\"worker1\") >> db\n",
    "    lb >> EC2(\"worker2\") >> db\n",
    "    lb >> EC2(\"worker3\") >> db\n",
    "    lb >> EC2(\"worker4\") >> db\n",
    "    lb >> EC2(\"worker5\") >> db"
   ]
  },
  {
   "cell_type": "code",
   "execution_count": null,
   "id": "f679f2e9-32de-4121-8319-1eff9b438b4f",
   "metadata": {},
   "outputs": [],
   "source": []
  },
  {
   "cell_type": "markdown",
   "id": "57248cd7-8ad1-4852-9203-ca950973c62f",
   "metadata": {},
   "source": [
    "### Group Data Flow\n",
    "Above worker example has too many redundant flows. In this case, you can group nodes into a list so that all nodes are connected to other nodes at once."
   ]
  },
  {
   "cell_type": "code",
   "execution_count": 16,
   "id": "08ba2fb5-3b0f-4941-8f6a-b3e436b62d62",
   "metadata": {},
   "outputs": [],
   "source": [
    "from diagrams import Diagram\n",
    "from diagrams.aws.compute import EC2\n",
    "from diagrams.aws.database import RDS\n",
    "from diagrams.aws.network import ELB\n",
    "\n",
    "with Diagram(\"Grouped Workers\", show=False, direction=\"TB\"):\n",
    "    ELB(\"lb\") >> [EC2(\"worker1\"),\n",
    "                  EC2(\"worker2\"),\n",
    "                  EC2(\"worker3\"),\n",
    "                  EC2(\"worker4\"),\n",
    "                  EC2(\"worker5\")] >> RDS(\"events\")"
   ]
  },
  {
   "cell_type": "code",
   "execution_count": null,
   "id": "5246e413-38ae-42e3-944e-0d0c6e0cab6c",
   "metadata": {},
   "outputs": [],
   "source": []
  },
  {
   "cell_type": "markdown",
   "id": "d761385d-87cd-4141-b187-1a8140007bfd",
   "metadata": {},
   "source": [
    "## 3. Clusters\n",
    "+ Basics\n",
    "+ Nested Clusters"
   ]
  },
  {
   "cell_type": "markdown",
   "id": "0a0063eb-9029-4eff-9244-5d31f070d891",
   "metadata": {},
   "source": [
    "### Basics\n",
    "Cluster represents a local cluster context.\n",
    "\n",
    "You can create a cluster context with Cluster class. And you can also connect the nodes in a cluster to other nodes outside a cluster."
   ]
  },
  {
   "cell_type": "code",
   "execution_count": 17,
   "id": "51935192-0872-4fb9-a4e5-9b695cab3590",
   "metadata": {},
   "outputs": [],
   "source": [
    "from diagrams import Cluster, Diagram\n",
    "from diagrams.aws.compute import ECS\n",
    "from diagrams.aws.database import RDS\n",
    "from diagrams.aws.network import Route53\n",
    "\n",
    "with Diagram(\"./imgs/Simple Web Service with DB Cluster\", show=True):\n",
    "    dns = Route53(\"dns\")\n",
    "    web = ECS(\"service\")\n",
    "\n",
    "    with Cluster(\"DB Cluster\"):\n",
    "        db_primary = RDS(\"primary\")\n",
    "        db_primary - [RDS(\"replica1\"),\n",
    "                     RDS(\"replica2\")]\n",
    "\n",
    "    dns >> web >> db_primary"
   ]
  },
  {
   "cell_type": "code",
   "execution_count": null,
   "id": "7b06d311-2ceb-407b-8fb5-78e354a065ee",
   "metadata": {},
   "outputs": [],
   "source": []
  },
  {
   "cell_type": "code",
   "execution_count": null,
   "id": "75e9359d-77db-4884-9429-0639441c52f5",
   "metadata": {},
   "outputs": [],
   "source": []
  },
  {
   "cell_type": "markdown",
   "id": "4399be3c-9367-4da8-ac44-a8024088a3ee",
   "metadata": {},
   "source": [
    "### Nested Clusters"
   ]
  },
  {
   "cell_type": "code",
   "execution_count": 18,
   "id": "398fe4dc-5c58-4f78-8ce2-f52fbd243982",
   "metadata": {},
   "outputs": [],
   "source": [
    "from diagrams import Cluster, Diagram\n",
    "from diagrams.aws.compute import ECS, EKS, Lambda\n",
    "from diagrams.aws.database import Redshift\n",
    "from diagrams.aws.integration import SQS\n",
    "from diagrams.aws.storage import S3\n",
    "\n",
    "with Diagram(\"./imgs/Event Processing\", show=True):\n",
    "    source = EKS(\"k8s source\")\n",
    "\n",
    "    with Cluster(\"Event Flows\"):\n",
    "        with Cluster(\"Event Workers\"):\n",
    "            workers = [ECS(\"worker1\"),\n",
    "                       ECS(\"worker2\"),\n",
    "                       ECS(\"worker3\")]\n",
    "\n",
    "        queue = SQS(\"event queue\")\n",
    "\n",
    "        with Cluster(\"Processing\"):\n",
    "            handlers = [Lambda(\"proc1\"),\n",
    "                        Lambda(\"proc2\"),\n",
    "                        Lambda(\"proc3\")]\n",
    "\n",
    "    store = S3(\"events store\")\n",
    "    dw = Redshift(\"analytics\")\n",
    "\n",
    "    source >> workers >> queue >> handlers\n",
    "    handlers >> store\n",
    "    handlers >> dw"
   ]
  },
  {
   "cell_type": "code",
   "execution_count": null,
   "id": "c22f23cb-5716-4106-8704-570ee95cd477",
   "metadata": {},
   "outputs": [],
   "source": []
  },
  {
   "cell_type": "markdown",
   "id": "f48c088c-c6f1-45c0-8400-af764b9d4609",
   "metadata": {},
   "source": [
    "## 4. Edges\n",
    "+ Basics"
   ]
  },
  {
   "cell_type": "markdown",
   "id": "397f91de-d026-4b72-8532-09bdd83ad114",
   "metadata": {},
   "source": [
    "### Basics\n",
    "Edge is an object representing a connection between Nodes with some additional properties.\n",
    "\n",
    "An edge object contains three attributes: **label**, **color** and **style** which mirror corresponding graphviz edge attributes."
   ]
  },
  {
   "cell_type": "code",
   "execution_count": 20,
   "id": "7c3fcca6-81f0-4dcb-a2d7-cad311135d52",
   "metadata": {},
   "outputs": [],
   "source": [
    "from diagrams import Cluster, Diagram, Edge\n",
    "from diagrams.onprem.analytics import Spark\n",
    "from diagrams.onprem.compute import Server\n",
    "from diagrams.onprem.database import PostgreSQL\n",
    "from diagrams.onprem.inmemory import Redis\n",
    "from diagrams.onprem.aggregator import Fluentd\n",
    "from diagrams.onprem.monitoring import Grafana, Prometheus\n",
    "from diagrams.onprem.network import Nginx\n",
    "from diagrams.onprem.queue import Kafka\n",
    "\n",
    "with Diagram(name=\"./imgs/Advanced Web Service with On-Premise (colored)\", show=True):\n",
    "    ingress = Nginx(\"ingress\")\n",
    "\n",
    "    metrics = Prometheus(\"metric\")\n",
    "    metrics << Edge(color=\"firebrick\", style=\"dashed\") << Grafana(\"monitoring\")\n",
    "\n",
    "    with Cluster(\"Service Cluster\"):\n",
    "        grpcsvc = [\n",
    "            Server(\"grpc1\"),\n",
    "            Server(\"grpc2\"),\n",
    "            Server(\"grpc3\")]\n",
    "\n",
    "    with Cluster(\"Sessions HA\"):\n",
    "        primary = Redis(\"session\")\n",
    "        primary \\\n",
    "            - Edge(color=\"brown\", style=\"dashed\") \\\n",
    "            - Redis(\"replica\") \\\n",
    "            << Edge(label=\"collect\") \\\n",
    "            << metrics\n",
    "        grpcsvc >> Edge(color=\"brown\") >> primary\n",
    "\n",
    "    with Cluster(\"Database HA\"):\n",
    "        primary = PostgreSQL(\"users\")\n",
    "        primary \\\n",
    "            - Edge(color=\"brown\", style=\"dotted\") \\\n",
    "            - PostgreSQL(\"replica\") \\\n",
    "            << Edge(label=\"collect\") \\\n",
    "            << metrics\n",
    "        grpcsvc >> Edge(color=\"black\") >> primary\n",
    "\n",
    "    aggregator = Fluentd(\"logging\")\n",
    "    aggregator \\\n",
    "        >> Edge(label=\"parse\") \\\n",
    "        >> Kafka(\"stream\") \\\n",
    "        >> Edge(color=\"black\", style=\"bold\") \\\n",
    "        >> Spark(\"analytics\")\n",
    "\n",
    "    ingress \\\n",
    "        >> Edge(color=\"darkgreen\") \\\n",
    "        << grpcsvc \\\n",
    "        >> Edge(color=\"darkorange\") \\\n",
    "        >> aggregator"
   ]
  },
  {
   "cell_type": "code",
   "execution_count": null,
   "id": "cab2bec5-ec92-4c1f-a6c9-ecfec9adb493",
   "metadata": {},
   "outputs": [],
   "source": []
  }
 ],
 "metadata": {
  "kernelspec": {
   "display_name": "Python 3",
   "language": "python",
   "name": "python3"
  },
  "language_info": {
   "codemirror_mode": {
    "name": "ipython",
    "version": 3
   },
   "file_extension": ".py",
   "mimetype": "text/x-python",
   "name": "python",
   "nbconvert_exporter": "python",
   "pygments_lexer": "ipython3",
   "version": "3.6.13"
  }
 },
 "nbformat": 4,
 "nbformat_minor": 5
}
